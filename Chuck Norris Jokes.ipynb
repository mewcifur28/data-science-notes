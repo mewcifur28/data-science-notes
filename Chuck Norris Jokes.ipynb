{
 "cells": [
  {
   "cell_type": "markdown",
   "metadata": {},
   "source": [
    "### In this assignment, you will learn how to work with Web API's in Python. For this specific challenge you will be extracting jokes from the Chuk Norris Database API. You will be given specific joke 'ID' and you have to get the joke for the corresponding joke ID. \n",
    "\n"
   ]
  },
  {
   "cell_type": "code",
   "execution_count": null,
   "metadata": {},
   "outputs": [],
   "source": [
    "import requests\n",
    "import json"
   ]
  },
  {
   "cell_type": "code",
   "execution_count": null,
   "metadata": {},
   "outputs": [],
   "source": [
    "sample_url = \"http://api.icndb.com/jokes/1\" # get url of joke\n",
    "response = requests.get(sample_url) # get response object\n",
    "print(type(response.content)) # response is of type bytes, convert to JSON\n",
    "json_data = json.loads(response.content) # python dict\n",
    "print(json_data)\n",
    "print(json_data['value']['id'], json_data['value']['joke'])\n"
   ]
  },
  {
   "cell_type": "code",
   "execution_count": null,
   "metadata": {},
   "outputs": [],
   "source": [
    "jokeList = []\n",
    "jokeList.append(str(json_data['value']['id']))\n",
    "jokeList.append(json_data['value']['joke'])\n",
    "print(jokeList)"
   ]
  },
  {
   "cell_type": "code",
   "execution_count": null,
   "metadata": {},
   "outputs": [],
   "source": [
    "filename = \"sample-jokes.csv\"\n",
    "with open(filename, 'w', encoding='utf-8') as f:\n",
    "    row = ','.join(jokeList)\n",
    "    row += '\\n'\n",
    "    f.write(row)\n",
    "    "
   ]
  },
  {
   "cell_type": "code",
   "execution_count": 1,
   "metadata": {},
   "outputs": [],
   "source": [
    "import csv\n",
    "import requests\n",
    "import json"
   ]
  },
  {
   "cell_type": "code",
   "execution_count": 2,
   "metadata": {},
   "outputs": [],
   "source": [
    "# extract all the IDs first\n",
    "id_list = []\n",
    "\n",
    "with open('ID.csv') as id_csv_file:\n",
    "    reader = csv.DictReader(id_csv_file)\n",
    "    for row in reader:\n",
    "        # print(row['ID'])\n",
    "        id_list.append(row['ID'])"
   ]
  },
  {
   "cell_type": "code",
   "execution_count": 3,
   "metadata": {},
   "outputs": [],
   "source": [
    "filename = \"chuck-norris-jokes.csv\"\n",
    "with open(filename, 'w', encoding='utf-8') as f:\n",
    "    header_string = 'ID,Joke\\n'\n",
    "    f.write(header_string)\n",
    "    \n",
    "    for currID in id_list:\n",
    "        url = 'http://api.icndb.com/jokes/{}'.format(currID)\n",
    "        response = requests.get(url)\n",
    "        joke_json = json.loads(response.content)\n",
    "#         if currID == '1':\n",
    "#             print(joke_json)\n",
    "        \n",
    "        row_list = []\n",
    "        row_list.append(str(joke_json['value']['id']))\n",
    "        row_list.append(joke_json['value']['joke'])\n",
    "        \n",
    "        row_string = ','.join(row_list)\n",
    "        row_string += '\\n'\n",
    "        f.write(row_string)\n",
    "    "
   ]
  },
  {
   "cell_type": "code",
   "execution_count": null,
   "metadata": {},
   "outputs": [],
   "source": []
  }
 ],
 "metadata": {
  "kernelspec": {
   "display_name": "Python 3",
   "language": "python",
   "name": "python3"
  },
  "language_info": {
   "codemirror_mode": {
    "name": "ipython",
    "version": 3
   },
   "file_extension": ".py",
   "mimetype": "text/x-python",
   "name": "python",
   "nbconvert_exporter": "python",
   "pygments_lexer": "ipython3",
   "version": "3.7.6"
  }
 },
 "nbformat": 4,
 "nbformat_minor": 4
}
