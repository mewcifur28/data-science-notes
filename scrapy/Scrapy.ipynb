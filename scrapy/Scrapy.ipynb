{
 "cells": [
  {
   "cell_type": "code",
   "execution_count": 2,
   "metadata": {},
   "outputs": [
    {
     "name": "stdout",
     "output_type": "stream",
     "text": [
      "Requirement already satisfied: scrapy in d:\\anaconda3\\lib\\site-packages (2.2.1)\n",
      "Requirement already satisfied: w3lib>=1.17.0 in d:\\anaconda3\\lib\\site-packages (from scrapy) (1.22.0)\n",
      "Requirement already satisfied: zope.interface>=4.1.3 in d:\\anaconda3\\lib\\site-packages (from scrapy) (5.1.0)\n",
      "Requirement already satisfied: protego>=0.1.15 in d:\\anaconda3\\lib\\site-packages (from scrapy) (0.1.16)\n",
      "Requirement already satisfied: cryptography>=2.0 in d:\\anaconda3\\lib\\site-packages (from scrapy) (2.8)\n",
      "Requirement already satisfied: queuelib>=1.4.2 in d:\\anaconda3\\lib\\site-packages (from scrapy) (1.5.0)\n",
      "Requirement already satisfied: service-identity>=16.0.0 in d:\\anaconda3\\lib\\site-packages (from scrapy) (18.1.0)\n",
      "Requirement already satisfied: Twisted>=17.9.0 in d:\\anaconda3\\lib\\site-packages (from scrapy) (20.3.0)\n",
      "Requirement already satisfied: parsel>=1.5.0 in d:\\anaconda3\\lib\\site-packages (from scrapy) (1.6.0)\n",
      "Requirement already satisfied: cssselect>=0.9.1 in d:\\anaconda3\\lib\\site-packages (from scrapy) (1.1.0)\n",
      "Requirement already satisfied: lxml>=3.5.0 in d:\\anaconda3\\lib\\site-packages (from scrapy) (4.5.0)\n",
      "Requirement already satisfied: pyOpenSSL>=16.2.0 in d:\\anaconda3\\lib\\site-packages (from scrapy) (19.1.0)\n",
      "Requirement already satisfied: PyDispatcher>=2.0.5 in d:\\anaconda3\\lib\\site-packages (from scrapy) (2.0.5)\n",
      "Requirement already satisfied: itemadapter>=0.1.0 in d:\\anaconda3\\lib\\site-packages (from scrapy) (0.1.0)\n",
      "Requirement already satisfied: six>=1.4.1 in d:\\anaconda3\\lib\\site-packages (from w3lib>=1.17.0->scrapy) (1.14.0)\n",
      "Requirement already satisfied: setuptools in d:\\anaconda3\\lib\\site-packages (from zope.interface>=4.1.3->scrapy) (45.2.0.post20200210)\n",
      "Requirement already satisfied: cffi!=1.11.3,>=1.8 in d:\\anaconda3\\lib\\site-packages (from cryptography>=2.0->scrapy) (1.14.0)\n",
      "Requirement already satisfied: attrs>=16.0.0 in d:\\anaconda3\\lib\\site-packages (from service-identity>=16.0.0->scrapy) (19.3.0)\n",
      "Requirement already satisfied: pyasn1-modules in d:\\anaconda3\\lib\\site-packages (from service-identity>=16.0.0->scrapy) (0.2.8)\n",
      "Requirement already satisfied: pyasn1 in d:\\anaconda3\\lib\\site-packages (from service-identity>=16.0.0->scrapy) (0.4.8)\n",
      "Requirement already satisfied: hyperlink>=17.1.1 in d:\\anaconda3\\lib\\site-packages (from Twisted>=17.9.0->scrapy) (19.0.0)\n",
      "Requirement already satisfied: Automat>=0.3.0 in d:\\anaconda3\\lib\\site-packages (from Twisted>=17.9.0->scrapy) (20.2.0)\n",
      "Requirement already satisfied: PyHamcrest!=1.10.0,>=1.9.0 in d:\\anaconda3\\lib\\site-packages (from Twisted>=17.9.0->scrapy) (2.0.2)\n",
      "Requirement already satisfied: constantly>=15.1 in d:\\anaconda3\\lib\\site-packages (from Twisted>=17.9.0->scrapy) (15.1.0)\n",
      "Requirement already satisfied: incremental>=16.10.1 in d:\\anaconda3\\lib\\site-packages (from Twisted>=17.9.0->scrapy) (17.5.0)\n",
      "Requirement already satisfied: pycparser in d:\\anaconda3\\lib\\site-packages (from cffi!=1.11.3,>=1.8->cryptography>=2.0->scrapy) (2.19)\n",
      "Requirement already satisfied: idna>=2.5 in d:\\anaconda3\\lib\\site-packages (from hyperlink>=17.1.1->Twisted>=17.9.0->scrapy) (2.8)\n"
     ]
    }
   ],
   "source": [
    "!pip install scrapy"
   ]
  },
  {
   "cell_type": "code",
   "execution_count": null,
   "metadata": {},
   "outputs": [],
   "source": []
  }
 ],
 "metadata": {
  "kernelspec": {
   "display_name": "Python 3",
   "language": "python",
   "name": "python3"
  },
  "language_info": {
   "codemirror_mode": {
    "name": "ipython",
    "version": 3
   },
   "file_extension": ".py",
   "mimetype": "text/x-python",
   "name": "python",
   "nbconvert_exporter": "python",
   "pygments_lexer": "ipython3",
   "version": "3.7.6"
  }
 },
 "nbformat": 4,
 "nbformat_minor": 4
}
