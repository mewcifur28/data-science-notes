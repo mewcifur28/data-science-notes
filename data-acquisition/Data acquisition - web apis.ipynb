{
 "cells": [
  {
   "cell_type": "markdown",
   "metadata": {},
   "source": [
    "# Data acquisition: Web APIs\n",
    "##### Application program interface\n",
    "- set of routines running over web server\n",
    "- connects application and database\n",
    "- specify data with URL\n",
    "- retrieve data and parse it\n",
    "- API may return data in JSON, XML data formats\n",
    "\n",
    "### JSON\n",
    "##### Javascript Object Notation\n",
    "- Dictionary like data structure\n",
    "- key: value pairs\n",
    "- keys are strings, values can be anything\n",
    "- easy to read and write\n",
    "\n",
    "### XML\n",
    "##### eXtensible Markup Language\n",
    "- structure similar to \n",
    "- custom tags\n",
    "- no style\n"
   ]
  },
  {
   "cell_type": "markdown",
   "metadata": {},
   "source": [
    "# Type of requests\n",
    "- GET\n",
    "- POST\n",
    "- DELETE\n",
    "- PUT\n",
    "- PATCH\n"
   ]
  },
  {
   "cell_type": "markdown",
   "metadata": {},
   "source": [
    "### Libraries\n",
    "- urllib\n",
    "- requests"
   ]
  },
  {
   "cell_type": "markdown",
   "metadata": {},
   "source": [
    "#### URLLIB"
   ]
  },
  {
   "cell_type": "code",
   "execution_count": null,
   "metadata": {},
   "outputs": [],
   "source": [
    "from urllib.request import urlopen\n",
    "api_url = 'https://samples.openweathermap.org/data/2.5/weather?q=London,uk&appid=439d4b804bc8187953eb36d2a8c26a02'\n",
    "url_result = urlopen(api_url) # returns HTTP response"
   ]
  },
  {
   "cell_type": "code",
   "execution_count": null,
   "metadata": {},
   "outputs": [],
   "source": [
    "data = url_result.read() # parse the data\n",
    "# print(data) \n",
    "# print(type(data)) # need to convert this \"bytes\" type data into a JSON object"
   ]
  },
  {
   "cell_type": "code",
   "execution_count": null,
   "metadata": {},
   "outputs": [],
   "source": [
    "import json"
   ]
  },
  {
   "cell_type": "code",
   "execution_count": null,
   "metadata": {},
   "outputs": [],
   "source": [
    "json_data = json.loads(data)\n",
    "print(json_data) # python dictionary"
   ]
  },
  {
   "cell_type": "code",
   "execution_count": null,
   "metadata": {},
   "outputs": [],
   "source": [
    "# to convert the JSON object to a string\n",
    "# for eg to store it in a file, you can store it as a string and convert back to JSON later\n",
    "json_string = json.dumps(json_data)\n",
    "print(json_string)\n",
    "print(type(json_string))"
   ]
  },
  {
   "cell_type": "markdown",
   "metadata": {},
   "source": [
    "#### Requests Library\n",
    "- most popular python library\n",
    "- wrapper over `urllib`\n",
    "- works well with python3"
   ]
  },
  {
   "cell_type": "markdown",
   "metadata": {},
   "source": [
    "##### installation\n",
    "`pip install requests`"
   ]
  },
  {
   "cell_type": "markdown",
   "metadata": {},
   "source": [
    "## 1. scrap pfp from facebook via the Graph API"
   ]
  },
  {
   "cell_type": "code",
   "execution_count": null,
   "metadata": {},
   "outputs": [],
   "source": [
    "!pip install requests"
   ]
  },
  {
   "cell_type": "code",
   "execution_count": null,
   "metadata": {},
   "outputs": [],
   "source": [
    "import requests"
   ]
  },
  {
   "cell_type": "code",
   "execution_count": null,
   "metadata": {},
   "outputs": [],
   "source": [
    "url = \"http://graph.facebook.com/4/picture?type=large\"\n",
    "# ref -> https://developers.facebook.com/docs/graph-api/reference/user\n",
    "#        https://support.pingidentity.com/s/article/How-to-retrieve-the-Facebook-Profile-Picture-URL\n",
    "\n",
    "# 4 -> user_id (mark zuccerboi)\n",
    "# ? attribute"
   ]
  },
  {
   "cell_type": "code",
   "execution_count": null,
   "metadata": {},
   "outputs": [],
   "source": [
    "r = requests.get(url) # make a GET request\n",
    "print(r) #response object\n",
    "# print(r.content) # it is the binary encoding of the image, cant see it like this"
   ]
  },
  {
   "cell_type": "code",
   "execution_count": null,
   "metadata": {},
   "outputs": [],
   "source": [
    "# store the response in a file and then open that file to view the image\n",
    "with open(\"sample_pic.jpg\", 'wb') as f:\n",
    "    f.write(r.content)"
   ]
  },
  {
   "cell_type": "markdown",
   "metadata": {},
   "source": [
    "## 2. Google API - geocode"
   ]
  },
  {
   "cell_type": "code",
   "execution_count": 4,
   "metadata": {},
   "outputs": [],
   "source": [
    "import requests\n",
    "url = \"https://maps.googleapis.com/maps/api/geocode/json?\"\n",
    "# option - 1 : hardcode the address\n",
    "# https://maps.maps.googleapis.com/maps/api/geocode/json?address=coding+blocks+pitampura\n",
    "\n",
    "# option - 2 : pass a parameter dictionary and get the requests library to do the work for you"
   ]
  },
  {
   "cell_type": "code",
   "execution_count": 12,
   "metadata": {},
   "outputs": [],
   "source": [
    "parameters = {\n",
    "    \"address\" : \"coding blocks pitampura\",\n",
    "    \"key\" : \"insert-api-key-here\"\n",
    "}"
   ]
  },
  {
   "cell_type": "code",
   "execution_count": 13,
   "metadata": {},
   "outputs": [
    {
     "name": "stdout",
     "output_type": "stream",
     "text": [
      "https://maps.googleapis.com/maps/api/geocode/json?address=coding+blocks+pitampura&key=insert-api-key-here\n"
     ]
    }
   ],
   "source": [
    "r = requests.get(url, params=parameters)\n",
    "print(r.url) # it is the string we were hardcoding earlier"
   ]
  },
  {
   "cell_type": "code",
   "execution_count": 15,
   "metadata": {},
   "outputs": [
    {
     "data": {
      "text/plain": [
       "b'{\\n   \"error_message\" : \"The provided API key is invalid.\",\\n   \"results\" : [],\\n   \"status\" : \"REQUEST_DENIED\"\\n}\\n'"
      ]
     },
     "execution_count": 15,
     "metadata": {},
     "output_type": "execute_result"
    }
   ],
   "source": [
    "r.content \n",
    "# gives an error message because we have not authenticated\n",
    "# we need to send the API key in parameters"
   ]
  },
  {
   "cell_type": "code",
   "execution_count": 16,
   "metadata": {},
   "outputs": [
    {
     "name": "stdout",
     "output_type": "stream",
     "text": [
      "{\n",
      "   \"error_message\" : \"The provided API key is invalid.\",\n",
      "   \"results\" : [],\n",
      "   \"status\" : \"REQUEST_DENIED\"\n",
      "}\n",
      "\n"
     ]
    }
   ],
   "source": [
    "print(r.content.decode('UTF-8')) #to print it nicely\n",
    "\n",
    "#we get a JSON like response"
   ]
  },
  {
   "cell_type": "code",
   "execution_count": null,
   "metadata": {},
   "outputs": [],
   "source": []
  }
 ],
 "metadata": {
  "kernelspec": {
   "display_name": "Python 3",
   "language": "python",
   "name": "python3"
  },
  "language_info": {
   "codemirror_mode": {
    "name": "ipython",
    "version": 3
   },
   "file_extension": ".py",
   "mimetype": "text/x-python",
   "name": "python",
   "nbconvert_exporter": "python",
   "pygments_lexer": "ipython3",
   "version": "3.7.6"
  }
 },
 "nbformat": 4,
 "nbformat_minor": 4
}
