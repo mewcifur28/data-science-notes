{
 "cells": [
  {
   "cell_type": "markdown",
   "metadata": {},
   "source": [
    "# Data scraping using beautiful soup\n",
    "- import beautiful soup\n",
    "- make a GET request to fetch the page data\n",
    "- parse HTML\n",
    "- filter relevant part"
   ]
  },
  {
   "cell_type": "code",
   "execution_count": null,
   "metadata": {
    "scrolled": true
   },
   "outputs": [],
   "source": [
    "!pip install bs4"
   ]
  },
  {
   "cell_type": "code",
   "execution_count": null,
   "metadata": {},
   "outputs": [],
   "source": [
    "from urllib.request import urlopen"
   ]
  },
  {
   "cell_type": "code",
   "execution_count": null,
   "metadata": {},
   "outputs": [],
   "source": [
    "android_url = \"https://en.wikipedia.org/wiki/Android_version_history\""
   ]
  },
  {
   "cell_type": "code",
   "execution_count": null,
   "metadata": {},
   "outputs": [],
   "source": [
    "android_data = urlopen(android_url)\n",
    "print(type(android_data))"
   ]
  },
  {
   "cell_type": "code",
   "execution_count": null,
   "metadata": {},
   "outputs": [],
   "source": [
    "android_html = android_data.read()\n",
    "print(android_html)\n",
    "android_data.close() # close the network after data has been fetched"
   ]
  },
  {
   "cell_type": "markdown",
   "metadata": {},
   "source": [
    "## Parsing data"
   ]
  },
  {
   "cell_type": "code",
   "execution_count": null,
   "metadata": {},
   "outputs": [],
   "source": [
    "from bs4 import BeautifulSoup as soup"
   ]
  },
  {
   "cell_type": "code",
   "execution_count": null,
   "metadata": {},
   "outputs": [],
   "source": [
    "android_soup = soup(android_html, 'html.parser')"
   ]
  },
  {
   "cell_type": "code",
   "execution_count": null,
   "metadata": {},
   "outputs": [],
   "source": [
    "print(android_soup)"
   ]
  },
  {
   "cell_type": "code",
   "execution_count": null,
   "metadata": {},
   "outputs": [],
   "source": [
    "print(type(android_soup))"
   ]
  },
  {
   "cell_type": "code",
   "execution_count": null,
   "metadata": {},
   "outputs": [],
   "source": [
    "tables = android_soup.findAll('table', {'class':'wikitable'})\n",
    "print(len(tables))"
   ]
  },
  {
   "cell_type": "code",
   "execution_count": null,
   "metadata": {},
   "outputs": [],
   "source": [
    "android_table = tables[0]\n",
    "print(android_table)"
   ]
  },
  {
   "cell_type": "markdown",
   "metadata": {},
   "source": [
    "## Extracting useful information\n",
    "- remove undesired tags\n",
    "- extract table header and data"
   ]
  },
  {
   "cell_type": "code",
   "execution_count": null,
   "metadata": {},
   "outputs": [],
   "source": [
    "headers = android_table.findAll('th')\n",
    "print(headers)"
   ]
  },
  {
   "cell_type": "code",
   "execution_count": null,
   "metadata": {},
   "outputs": [],
   "source": [
    "column_titles = [ct.text[:-1] for ct in headers]\n",
    "print(column_titles)"
   ]
  },
  {
   "cell_type": "code",
   "execution_count": null,
   "metadata": {},
   "outputs": [],
   "source": [
    "rows_data = android_table.findAll('tr')[1:]\n",
    "# slicing is done because the first row is th which has already been extracted"
   ]
  },
  {
   "cell_type": "code",
   "execution_count": null,
   "metadata": {},
   "outputs": [],
   "source": [
    "first_row = rows_data[0].findAll('td')"
   ]
  },
  {
   "cell_type": "code",
   "execution_count": null,
   "metadata": {},
   "outputs": [],
   "source": [
    "for d in first_row:\n",
    "    print(d.text)"
   ]
  },
  {
   "cell_type": "code",
   "execution_count": null,
   "metadata": {},
   "outputs": [],
   "source": [
    "table_rows = [] #store all rows \n",
    "for row in rows_data:\n",
    "    current_row = []\n",
    "    row_data = row.findAll('td')\n",
    "    for i,d in enumerate(row_data):\n",
    "        # remove commas from the date\n",
    "        if i==2:\n",
    "            info = d.text\n",
    "            info = info.replace(',','')\n",
    "            current_row.append(info[:-1])\n",
    "        else:\n",
    "            current_row.append(d.text[:-1])\n",
    "    table_rows.append(current_row)\n",
    "print(table_rows)"
   ]
  },
  {
   "cell_type": "markdown",
   "metadata": {},
   "source": [
    "## Writing and reading a CSV file"
   ]
  },
  {
   "cell_type": "code",
   "execution_count": null,
   "metadata": {},
   "outputs": [],
   "source": [
    "filename = 'android_version_history.csv'\n",
    "with open(filename, 'w', encoding='utf-8') as f:\n",
    "    # write the header\n",
    "    header_string = ','.join(column_titles)\n",
    "    print(header_string)\n",
    "    header_string += '\\n'\n",
    "    f.write(header_string)\n",
    "    \n",
    "    # add row data\n",
    "    for row in table_rows:\n",
    "        row_string = ','.join(row)\n",
    "        row_string += '\\n'\n",
    "        f.write(row_string)"
   ]
  },
  {
   "cell_type": "markdown",
   "metadata": {},
   "source": [
    "## Data Cleaning\n",
    "- remove undesired commas and symbols\n",
    "- undesired information"
   ]
  },
  {
   "cell_type": "code",
   "execution_count": 1,
   "metadata": {},
   "outputs": [],
   "source": [
    "import pandas as pd"
   ]
  },
  {
   "cell_type": "code",
   "execution_count": 4,
   "metadata": {},
   "outputs": [],
   "source": [
    "df = pd.read_csv('android_version_history.csv')"
   ]
  },
  {
   "cell_type": "code",
   "execution_count": null,
   "metadata": {},
   "outputs": [],
   "source": [
    "df.head(n=18)"
   ]
  },
  {
   "cell_type": "markdown",
   "metadata": {},
   "source": [
    "## Loading local files"
   ]
  },
  {
   "cell_type": "code",
   "execution_count": null,
   "metadata": {},
   "outputs": [],
   "source": [
    "# just open the file with open instead of making a GET request\n",
    "with open('android.html', encoding='utf-8') as f:\n",
    "    page_soup = soup(f, 'html.parser')"
   ]
  },
  {
   "cell_type": "code",
   "execution_count": null,
   "metadata": {},
   "outputs": [],
   "source": [
    "page_soup.findAll('h1') #first heading"
   ]
  },
  {
   "cell_type": "markdown",
   "metadata": {},
   "source": [
    "# Image Scraping\n",
    "https://www.passiton.com/inspirational-quotes"
   ]
  },
  {
   "cell_type": "code",
   "execution_count": 1,
   "metadata": {},
   "outputs": [
    {
     "name": "stdout",
     "output_type": "stream",
     "text": [
      "Requirement already satisfied: html5lib in d:\\anaconda3\\lib\\site-packages (1.0.1)\n",
      "Requirement already satisfied: webencodings in d:\\anaconda3\\lib\\site-packages (from html5lib) (0.5.1)\n",
      "Requirement already satisfied: six>=1.9 in d:\\anaconda3\\lib\\site-packages (from html5lib) (1.14.0)\n"
     ]
    }
   ],
   "source": [
    "!pip install html5lib"
   ]
  },
  {
   "cell_type": "code",
   "execution_count": 4,
   "metadata": {},
   "outputs": [],
   "source": [
    "import bs4\n",
    "import requests"
   ]
  },
  {
   "cell_type": "code",
   "execution_count": 5,
   "metadata": {},
   "outputs": [],
   "source": [
    "url = \"https://www.passiton.com/inspirational-quotes\""
   ]
  },
  {
   "cell_type": "code",
   "execution_count": 6,
   "metadata": {},
   "outputs": [],
   "source": [
    "response = requests.get(url)"
   ]
  },
  {
   "cell_type": "code",
   "execution_count": 25,
   "metadata": {},
   "outputs": [
    {
     "name": "stdout",
     "output_type": "stream",
     "text": [
      "b'<!DOCTYPE html>\\n<html class=\"no-js\" dir=\"ltr\" lang=\"en-US\">\\n    <head>\\n        <title>Inspirational Quotes - Motivational Quotes - Leadership Quotes | PassItOn.com</title>\\n        <meta charset=\"utf-8\">\\n        <meta http-equiv=\"content-type\" content=\"text/html; charset=utf-8\" />\\n        <meta http-equiv=\"X-UA-Compatible\" content=\"IE=edge\" />\\n        <meta name=\"viewport\" content=\"width=device-width,initial-scale=1.0,maximum-scale=1\" />\\n        <meta name=\"description\" content=\"The Foundation for a Better Life | Pass It On.com\">\\n        <link rel=\"apple-touch-icon\" sizes=\"180x180\" href=\"/apple-touch-icon.png\">\\n        <link rel=\"icon\" type=\"image/png\" sizes=\"32x32\" href=\"/favicon-32x32.png\">\\n        <link rel=\"icon\" type=\"image/png\" sizes=\"16x16\" href=\"/favicon-16x16.png\">\\n        <link rel=\"manifest\" href=\"/site.webmanifest\">\\n        <link rel=\"mask-icon\" href=\"/safari-pinned-tab.svg\" color=\"#c8102e\">\\n        <meta name=\"msapplication-TileColor\" content=\"#c8102e\">\\n        <meta name=\"theme-color\" content=\"#ffffff\">\\n        <link rel=\"stylesheet\" href=\"https://stackpath.bootstrapcdn.com/bootstrap/4.3.1/css/bootstrap.min.css\" integrity=\"sha384-ggOyR0iXCbMQv3Xipma34MD+dH/1fQ784/j6cY/iJTQUOhcWr7x9JvoRxT2MZw1T\" crossorigin=\"anonymous\">\\n        <link rel=\"stylesheet\" media=\"all\" href=\"/assets/application-e2dff94212c11572ecbf79418dd0933d.css\" />\\n        <meta name=\"csrf-param\" content=\"authenticity_token\" />\\n<meta name=\"csrf-token\" content=\"6s3a2lsaNvivuENTITbe+L6fkBgHdFmKMiCIaW2AkSANearjjsnVhlXRcJxrSjstuXvUOu7DJSH+jkSXRZxeCw==\" />\\n        <!-- Global site tag (gtag.js) - Google Analytics -->\\n        <script async src=\"https://www.googletagmanager.com/gtag/js?id=UA-1179606-29\"></script>\\n        <script>\\n          window.dataLayer = window.dataLayer || [];\\n          function gtag(){dataLayer.push(arguments);}\\n          gtag(\\'js\\', new Date());\\n          gtag(\\'config\\', \\'UA-1179606-29\\');\\n        </script>\\n\\n        <script>\\n          window.fbAsyncInit = function() {\\n            FB.init({\\n              appId            : \\'483774921971842\\',\\n              autoLogAppEvents : true,\\n              xfbml            : true,\\n              version          : \\'v6.0\\'\\n            });\\n          };\\n        </script>\\n        <script async defer src=\"https://connect.facebook.net/en_US/sdk.js\"></script>\\n\\n        <meta property=\"og:site_name\" content=\"passiton.com\">\\n        <meta property=\"og:title\" content=\"Inspirational Quotes - Motivational Quotes - Leadership Quotes\" />\\n        <meta property=\"og:type\" content=\"website\" />\\n        <meta property=\"og:image\" content=\"https://www.passiton.com/passiton.jpg\" />\\n        <meta property=\"og:url\" content=\"https://www.passiton.com/inspirational-quotes\" />\\n        <meta property=\"og:description\" content=\"Find the perfect quotation from our hand-picked collection of inspiring quotes by hundreds of authors.\" />\\n        <meta property=\"fb:app_id\" content=\"483774921971842\" />\\n\\n        <meta name=\"twitter:card\" content=\"summary_large_image\" />\\n        <meta name=\"twitter:site\" content=\"@passiton\" />\\n        <meta name=\"twitter:creator\" content=\"@passiton\">\\n        <meta name=\"twitter:title\" content=\"Inspirational Quotes - Motivational Quotes - Leadership Quotes\" />\\n        <meta name=\"twitter:description\" content=\"Find the perfect quotation from our hand-picked collection of inspiring quotes by hundreds of authors.\" />\\n        <meta name=\"twitter:image\" content=\"https://www.passiton.com/passiton.jpg\" />\\n        <meta name=\"twitter:url\" content=\"https://www.passiton.com/inspirational-quotes\" />\\n\\n        <meta itemprop=\"name\" content=\"passiton.com\">\\n        <meta itemprop=\"description\" content=\"Find the perfect quotation from our hand-picked collection of inspiring quotes by hundreds of authors.\">\\n        <meta itemprop=\"image\" content=\"https://www.passiton.com/passiton.jpg\">\\n\\n        <link rel=\"apple-touch-icon\" sizes=\"180x180\" href=\"/apple-touch-icon.png\">\\n        <link rel=\"icon\" type=\"image/png\" sizes=\"32x32\" href=\"/favicon-32x32.png\">\\n        <link rel=\"icon\" type=\"image/png\" sizes=\"16x16\" href=\"/favicon-16x16.png\">\\n        <link rel=\"mask-icon\" href=\"/passiton_arrow.svg\" color=\"#C8102E\">\\n        <link rel=\"manifest\" href=\"/manifest.json\">\\n        <link rel=\"mask-icon\" href=\"/safari-pinned-tab.svg\" color=\"#5bbad5\">\\n        <meta name=\"apple-mobile-web-app-title\" content=\"passiton\">\\n        <meta name=\"application-name\" content=\"passiton\">\\n        <meta name=\"theme-color\" content=\"#f1f1f1\">\\n        \\n    </head>\\n    <body class=\\'no-transition quotes_index\\'>\\n        <header>\\n    <nav class=\"navbar navbar-default bootsnav navbar-fixed-top header-dark white-link background-transparent nav-box-width white-link navbar-expand-lg\">\\n        <div class=\"container-fluid nav-header-container\">\\n            <div class=\"col-auto pl-0\">\\n\\n                    <a class=\"logo\" title=\"Pass It On\\xc2\\xae\" href=\"/\"><img data-rjs=\"/assets/site/logo@2x-77b9f4fa1e4bafa6ff119f8f162b7bd9.png\" class=\"logo-dark\" alt=\"Pass It On\" src=\"/assets/site/logo-6d680decaadef58e4fbb586e147bc135.png\" /><img data-rjs=\"/assets/site/logo-white@2x-82bf2486063a48e9207811cc7f6d5e5f.png\" class=\"logo-light default\" alt=\"Pass It On\" src=\"/assets/site/logo-white-2d99f390ad2f6d3bbf59a52aadb55d60.png\" /></a>\\n\\n            </div>\\n            <div class=\"col accordion-menu pr-0 pr-md-3\">\\n                <button type=\"button\" class=\"navbar-toggler collapsed\" data-toggle=\"collapse\" data-target=\"#navbar-collapse-toggle-1\">\\n                    <span class=\"sr-only\">toggle navigation</span>\\n                    <span class=\"icon-bar\"></span>\\n                    <span class=\"icon-bar\"></span>\\n                    <span class=\"icon-bar\"></span>\\n                </button>\\n                <div class=\"navbar-collapse collapse justify-content-end\" id=\"navbar-collapse-toggle-1\">\\n                    <ul id=\"accordion\" class=\"nav navbar-nav no-margin alt-font text-normal\" data-in=\"fadeIn\" data-out=\"fadeOut\">\\n                        <li><a href=\"/inspirational-quotes\">Quotes</a></li>\\n                        <li><a href=\"/inspirational-stories-tv-spots\">Videos</a></li>\\n                        <li class=\"dropdown simple-dropdown\"><a href=\"/inspirational-sayings-billboards\">Billboards <i class=\\'fas fa-angle-down dropdown-toggle\\' data-toggle=\\'dropdown\\' aria-hidden=\\'true\\'></i></a>\\n                            <ul class=\"dropdown-menu\" role=\"menu\">\\n                                <li><a href=\"/inspirational-sayings-billboards\">Official Billboards</a>\\n                                <li><a href=\"/is-in-you\">Is In You\\xc2\\xae Billboards</a>\\n                                <li><a href=\"/your-billboards\">Create Your Own Billboard</a>\\n                            </ul>\\n                        </li>\\n                        <li><a href=\"/radio\">Radio Ads</a></li>\\n                        <li class=\"dropdown simple-dropdown\"><a href=\"#\">Language <i class=\"fas fa-angle-down dropdown-toggle\" data-toggle=\"dropdown\" aria-hidden=\"true\"></i></a>\\n                            <ul class=\"dropdown-menu\" role=\"menu\">\\n                                <li><a target=\"_blank\" href=\"https://www.pasala.org/\">Spanish | Espa\\xc3\\xb1ol</a>\\n                                <li><a target=\"_blank\" href=\"https://www.umavidamelhor.org/\">Portuguese | Portugu\\xc3\\xaas</a>\\n                                <li><a target=\"_blank\" href=\"https://www.values.cn.com/\">Chinese | \\xe4\\xb8\\xad\\xe6\\x96\\x87</a>\\n                            </ul>\\n                        </li>\\n                    </ul>\\n                </div>\\n            </div>\\n            <div class=\"col-auto pr-0\">\\n                <div class=\"header-searchbar\">\\n                    <a href=\"#search-header\" class=\"header-search-form\"><i class=\"fas fa-search search-button\"></i></a>\\n                    <form id=\"search-header\" method=\"post\" action=\"/search\" name=\"search-header\" class=\"mfp-hide search-form-result\">\\n                        <div class=\"search-form position-relative\">\\n                            <button type=\"submit\" class=\"fas fa-search close-search search-button\"></button>\\n                            <input type=\"text\" name=\"q\" class=\"search-input\" placeholder=\"Search passiton.com...\" autocomplete=\"off\">\\n                        </div>\\n                    </form>\\n                </div>\\n                <div class=\"header-social-icon d-none d-md-inline-block\">\\n                    <a href=\"https://www.facebook.com/valuescom\" title=\"Facebook\" target=\"_blank\"><i class=\"fab fa-facebook-f\" aria-hidden=\"true\"></i></a>\\n                    <a href=\"https://twitter.com/passiton_values\" title=\"Twitter\" target=\"_blank\"><i class=\"fab fa-twitter\"></i></a>\\n                    <a href=\"https://www.instagram.com/passiton_values/\" title=\"Instagram\" target=\"_blank\"><i class=\"fab fa-instagram\" aria-hidden=\"true\"></i></a>\\n                    <a href=\"https://www.pinterest.com/passiton_values/\" title=\"Pinterest\" target=\"_blank\"><i class=\"fab fa-pinterest\" aria-hidden=\"true\"></i></a>\\n                    <a href=\"https://www.youtube.com/c/passiton_values\" title=\"YouTube\" target=\"_blank\"><i class=\"fab fa-youtube no-margin-right\" aria-hidden=\"true\"></i></a>\\n                </div>\\n            </div>\\n        </div>\\n    </nav>\\n</header>\\n        \\n\\n    <section class=\"parallax padding-six-all bg-black\" data-stellar-background-ratio=\"0.2\" style=\"background-image:url(\\'/assets/backgrounds/flowers-8d19415bc3bc371f5beaed468d9a1970.jpg\\');\">\\n        <div class=\"container\">\\n            <div class=\"row justify-content-center\">\\n                <div class=\"col-12 col-lg-10 text-center\">\\n                    <div class=\"shadow bg-extra-dark-gray padding-two-all border-radius-6 width-70 lg-width-80 sm-width-100 mx-auto lg-padding-30px-all sm-padding-15px-all sm-margin-40px-top\">\\n                        <h6 class=\"font-weight-300 text-white-2 margin-20px-bottom sm-margin-15px-bottom\">Get our FREE daily quote emails!</h6>\\n                        <p class=\"text-medium width-70 mx-auto margin-40px-bottom sm-width-100 sm-margin-15px-bottom\">Get a daily inspirational quote in your inbox each weekday! Enter your email below to subscribe.</p>\\n\\n                        <form class=\"simple_form search-box3 margin-10px-bottom\" novalidate=\"novalidate\" id=\"new_user\" action=\"/users\" accept-charset=\"UTF-8\" method=\"post\"><input name=\"utf8\" type=\"hidden\" value=\"&#x2713;\" /><input type=\"hidden\" name=\"authenticity_token\" value=\"lI5v1ZBiFvb/LMSjvdRbLvo/OBW0h/jGhL2PSbrXx6JzOh/sRbH1iAVF92z3qL77/dt8N10whG1IE0O3kssIiQ==\" />\\n                            <div class=\"input-group add-on width-75 mx-auto sm-width-100\">\\n                                <input label=\"false\" class=\"string email optional form-control text-white\" type=\"text\" placeholder=\"you@your-email.com\" name=\"user[email]\" id=\"user_email\" />\\n                                <script src=\"https://www.recaptcha.net/recaptcha/api.js?render=6Ldta8EUAAAAACp3yt76yG8QWMdQkpDBkP1bcHi6\"   ></script>\\n        <script>\\n          // Define function so that we can call it again later if we need to reset it\\n          // This executes reCAPTCHA and then calls our callback.\\n          function executeRecaptchaForQuote() {\\n            grecaptcha.ready(function() {\\n              grecaptcha.execute(\\'6Ldta8EUAAAAACp3yt76yG8QWMdQkpDBkP1bcHi6\\', {action: \\'quote\\'}).then(function(token) {\\n                setInputWithRecaptchaResponseTokenForQuote(\\'g-recaptcha-response-data-quote\\', token)\\n              });\\n            });\\n          };\\n          // Invoke immediately\\n          executeRecaptchaForQuote()\\n\\n          // Async variant so you can await this function from another async function (no need for\\n          // an explicit callback function then!)\\n          // Returns a Promise that resolves with the response token.\\n          async function executeRecaptchaForQuoteAsync() {\\n            return new Promise((resolve, reject) => {\\n              grecaptcha.ready(async function() {\\n                resolve(await grecaptcha.execute(\\'6Ldta8EUAAAAACp3yt76yG8QWMdQkpDBkP1bcHi6\\', {action: \\'quote\\'}))\\n              });\\n            })\\n          };\\n\\n                    var setInputWithRecaptchaResponseTokenForQuote = function(id, token) {\\n            var element = document.getElementById(id);\\n            element.value = token;\\n          }\\n\\n        </script>\\n<input type=\"hidden\" name=\"g-recaptcha-response-data[quote]\" id=\"g-recaptcha-response-data-quote\" data-sitekey=\"6Ldta8EUAAAAACp3yt76yG8QWMdQkpDBkP1bcHi6\" class=\"g-recaptcha g-recaptcha-response \"/>\\n\\n                                <div class=\"input-group-append\">\\n                                    <button type=\"submit\" class=\"btn btn-default\"><i class=\"ti-arrow-right text-small m-0\"></i></button>\\n                                </div>\\n                            </div>\\n</form>\\n\\n                    </div>\\n                </div>\\n            </div>\\n        </div>\\n    </section>\\n\\n\\n<section class=\"half-section bg-extra-dark-gray half-section\">\\n    <div class=\"container\">\\n\\n        <div class=\"row m-0\">\\n            <div class=\"col-12 d-flex flex-column justify-content-center text-center wow fadeIn\" data-wow-delay=\"0.2s\">\\n                <h5 class=\"text-white alt-font font-weight-400 letter-spacing-1 margin-10px-bottom\">INSPIRATIONAL QUOTES</h5>\\n                <span class=\"text-white-2 opacity8 alt-font mb-0 padding-20px-bottom\">Find the perfect quote... and Pass It On\\xc2\\xae</span>\\n\\n                <form class=\"search-box2 margin-30px-bottom\" action=\"/inspirational-quotes\" method=\"get\">\\n                    <div class=\"input-group add-on width-75 mx-auto sm-width-100\">\\n                        <input name=\"q\" type=\"text\" value=\\'\\' placeholder=\"Search our inspiring quotes...\" class=\"form-control\" />\\n                        <div class=\"input-group-append\">\\n                            <button type=\"submit\" class=\"btn btn-default\"><i class=\"ti-search text-small m-0\"></i></button>\\n                        </div>\\n                    </div>\\n                </form>\\n\\n            </div>\\n        </div>\\n\\n        <div class=\\'row\\' id=\\'all_quotes\\'>\\n            <div class=\"col-6 col-lg-3 text-center margin-30px-bottom sm-margin-30px-top\">\\n\\n        <a href=\"/inspirational-quotes/7364-good-character-is-more-to-be-praised-than\"><img alt=\"Good character is more to be praised than outstanding talent. Most talents are to some extent a gift. Good character, by contrast, is not given to us. We have to build it piece by piece by thought, choice, courage and determination. #&lt;Author:0x00007f60a116e280&gt;\" class=\"margin-10px-bottom shadow\" src=\"https://assets.passiton.com/quotes/quote_artwork/7364/medium/20200721_tuesday_quote.jpg?1595010959\" width=\"310\" height=\"310\" /></a>\\n        <h5 class=\\'value_on_red\\'><a href=\"/inspirational-quotes/7364-good-character-is-more-to-be-praised-than\">CHARACTER</a></h5>\\n\\n</div><div class=\"col-6 col-lg-3 text-center margin-30px-bottom sm-margin-30px-top\">\\n\\n        <a href=\"/inspirational-quotes/4393-people-grow-through-experience-if-they-meet\"><img alt=\"People grow through experience if they meet life honestly and courageously. This is how character is built. #&lt;Author:0x00007f60a117d848&gt;\" class=\"margin-10px-bottom shadow\" src=\"https://assets.passiton.com/quotes/quote_artwork/4393/medium/20200720_monday_quote.jpg?1595010931\" width=\"310\" height=\"310\" /></a>\\n        <h5 class=\\'value_on_red\\'><a href=\"/inspirational-quotes/4393-people-grow-through-experience-if-they-meet\">CHARACTER</a></h5>\\n\\n</div><div class=\"col-6 col-lg-3 text-center margin-30px-bottom sm-margin-30px-top\">\\n\\n        <a href=\"/inspirational-quotes/8100-a-life-lived-with-integrity-is-a-shining-star\"><img alt=\"A life lived with integrity\\xe2\\x80\\xa6 is a shining star in whose light others may follow in the years to come. #&lt;Author:0x00007f60a1192bd0&gt;\" class=\"margin-10px-bottom shadow\" src=\"https://assets.passiton.com/quotes/quote_artwork/8100/medium/20200717_friday_quote.jpg?1594411651\" width=\"310\" height=\"310\" /></a>\\n        <h5 class=\\'value_on_red\\'><a href=\"/inspirational-quotes/8100-a-life-lived-with-integrity-is-a-shining-star\">INTEGRITY</a></h5>\\n\\n</div><div class=\"col-6 col-lg-3 text-center margin-30px-bottom sm-margin-30px-top\">\\n\\n        <a href=\"/inspirational-quotes/8099-the-greatness-of-a-man-is-not-in-how-much\"><img alt=\"The greatness of a man is not in how much wealth he acquires, but in his integrity and his ability to affect those around him positively. #&lt;Author:0x00007f60a11c59b8&gt;\" class=\"margin-10px-bottom shadow\" src=\"https://assets.passiton.com/quotes/quote_artwork/8099/medium/20200716_thursday_quote.jpg?1594411624\" width=\"310\" height=\"310\" /></a>\\n        <h5 class=\\'value_on_red\\'><a href=\"/inspirational-quotes/8099-the-greatness-of-a-man-is-not-in-how-much\">INTEGRITY</a></h5>\\n\\n</div><div class=\"col-6 col-lg-3 text-center margin-30px-bottom sm-margin-30px-top\">\\n\\n        <a href=\"/inspirational-quotes/7654-real-integrity-is-doing-the-right-thing\"><img alt=\"Real integrity is doing the right thing, knowing that nobody\\xe2\\x80\\x99s going to know whether you did it or not. #&lt;Author:0x00007f60a11de788&gt;\" class=\"margin-10px-bottom shadow\" src=\"https://assets.passiton.com/quotes/quote_artwork/7654/medium/20200715_wednesday_quote.jpg?1594411583\" width=\"310\" height=\"310\" /></a>\\n        <h5 class=\\'value_on_red\\'><a href=\"/inspirational-quotes/7654-real-integrity-is-doing-the-right-thing\">INTEGRITY</a></h5>\\n\\n</div><div class=\"col-6 col-lg-3 text-center margin-30px-bottom sm-margin-30px-top\">\\n\\n        <a href=\"/inspirational-quotes/8098-the-time-is-always-right-to-do-what-is-right\"><img alt=\"The time is always right to do what is right. #&lt;Author:0x00007f60a12044b0&gt;\" class=\"margin-10px-bottom shadow\" src=\"https://assets.passiton.com/quotes/quote_artwork/8098/medium/20200714_tuesday_quote.jpg?1594411553\" width=\"310\" height=\"310\" /></a>\\n        <h5 class=\\'value_on_red\\'><a href=\"/inspirational-quotes/8098-the-time-is-always-right-to-do-what-is-right\">INTEGRITY</a></h5>\\n\\n</div><div class=\"col-6 col-lg-3 text-center margin-30px-bottom sm-margin-30px-top\">\\n\\n        <a href=\"/inspirational-quotes/7655-integrity-is-choosing-courage-over-comfort\"><img alt=\"Integrity is choosing courage over comfort; choosing what is right over what is fun, fast, or easy; and choosing to practice our values rather than simply professing them. #&lt;Author:0x00007f60a12185f0&gt;\" class=\"margin-10px-bottom shadow\" src=\"https://assets.passiton.com/quotes/quote_artwork/7655/medium/20200713_monday_quote.jpg?1594411527\" width=\"310\" height=\"310\" /></a>\\n        <h5 class=\\'value_on_red\\'><a href=\"/inspirational-quotes/7655-integrity-is-choosing-courage-over-comfort\">INTEGRITY</a></h5>\\n\\n</div><div class=\"col-6 col-lg-3 text-center margin-30px-bottom sm-margin-30px-top\">\\n\\n        <a href=\"/inspirational-quotes/8097-we-are-all-in-this-together\"><img alt=\"We are all in this together. #&lt;Author:0x00007f60a122def0&gt;\" class=\"margin-10px-bottom shadow\" src=\"https://assets.passiton.com/quotes/quote_artwork/8097/medium/20200710_friday_quote_alternate.jpg?1593898946\" width=\"310\" height=\"310\" /></a>\\n        <h5 class=\\'value_on_red\\'><a href=\"/inspirational-quotes/8097-we-are-all-in-this-together\">UNITY</a></h5>\\n\\n</div><div class=\"col-6 col-lg-3 text-center margin-30px-bottom sm-margin-30px-top\">\\n\\n        <a href=\"/inspirational-quotes/7586-the-essence-of-the-beautiful-is-unity-in-variety\"><img alt=\"The essence of the beautiful is unity in variety. #&lt;Author:0x00007f60a12475f8&gt;\" class=\"margin-10px-bottom shadow\" src=\"https://assets.passiton.com/quotes/quote_artwork/7586/medium/20200709_thursday_quote.jpg?1593731309\" width=\"310\" height=\"310\" /></a>\\n        <h5 class=\\'value_on_red\\'><a href=\"/inspirational-quotes/7586-the-essence-of-the-beautiful-is-unity-in-variety\">UNITY</a></h5>\\n\\n</div><div class=\"col-6 col-lg-3 text-center margin-30px-bottom sm-margin-30px-top\">\\n\\n        <a href=\"/inspirational-quotes/7941-unity-is-strength-when-there-is-teamwork-and\"><img alt=\"Unity is strength\\xe2\\x80\\xa6when there is teamwork and collaboration, wonderful things can be achieved. #&lt;Author:0x00007f60a125a7c0&gt;\" class=\"margin-10px-bottom shadow\" src=\"https://assets.passiton.com/quotes/quote_artwork/7941/medium/20200708_wednesday_quote.jpg?1593731279\" width=\"310\" height=\"310\" /></a>\\n        <h5 class=\\'value_on_red\\'><a href=\"/inspirational-quotes/7941-unity-is-strength-when-there-is-teamwork-and\">UNITY</a></h5>\\n\\n</div><div class=\"col-6 col-lg-3 text-center margin-30px-bottom sm-margin-30px-top\">\\n\\n        <a href=\"/inspirational-quotes/8096-unity-does-not-mean-sameness-it-means-oneness\"><img alt=\"Unity does not mean sameness. It means oneness of purpose. #&lt;Author:0x00007f60a1269db0&gt;\" class=\"margin-10px-bottom shadow\" src=\"https://assets.passiton.com/quotes/quote_artwork/8096/medium/20200707_tuesday_quote.jpg?1593731221\" width=\"310\" height=\"310\" /></a>\\n        <h5 class=\\'value_on_red\\'><a href=\"/inspirational-quotes/8096-unity-does-not-mean-sameness-it-means-oneness\">UNITY</a></h5>\\n\\n</div><div class=\"col-6 col-lg-3 text-center margin-30px-bottom sm-margin-30px-top\">\\n\\n        <a href=\"/inspirational-quotes/8095-the-foundation-of-freedom-is-unity\"><img alt=\"The foundation of freedom is unity. #&lt;Author:0x00007f60a127d658&gt;\" class=\"margin-10px-bottom shadow\" src=\"https://assets.passiton.com/quotes/quote_artwork/8095/medium/20200706_monday_quote.jpg?1593731201\" width=\"310\" height=\"310\" /></a>\\n        <h5 class=\\'value_on_red\\'><a href=\"/inspirational-quotes/8095-the-foundation-of-freedom-is-unity\">UNITY</a></h5>\\n\\n</div><div class=\"col-6 col-lg-3 text-center margin-30px-bottom sm-margin-30px-top\">\\n\\n        <a href=\"/inspirational-quotes/7780-freedom-lies-in-being-bold\"><img alt=\"Freedom lies in being bold. #&lt;Author:0x00007f60a12975f8&gt;\" class=\"margin-10px-bottom shadow\" src=\"https://assets.passiton.com/quotes/quote_artwork/7780/medium/20200703_friday_quote.jpg?1593310853\" width=\"310\" height=\"310\" /></a>\\n        <h5 class=\\'value_on_red\\'><a href=\"/inspirational-quotes/7780-freedom-lies-in-being-bold\">HUMILITY</a></h5>\\n\\n</div><div class=\"col-6 col-lg-3 text-center margin-30px-bottom sm-margin-30px-top\">\\n\\n        <a href=\"/inspirational-quotes/8092-there-is-nothing-noble-in-being-superior-to\"><img alt=\"There is nothing noble in being superior to your fellow man; true nobility is being superior to your former self. #&lt;Author:0x00007f60a12a7638&gt;\" class=\"margin-10px-bottom shadow\" src=\"https://assets.passiton.com/quotes/quote_artwork/8092/medium/20200702_thursday_quote.jpg?1593310767\" width=\"310\" height=\"310\" /></a>\\n        <h5 class=\\'value_on_red\\'><a href=\"/inspirational-quotes/8092-there-is-nothing-noble-in-being-superior-to\">HUMILITY</a></h5>\\n\\n</div><div class=\"col-6 col-lg-3 text-center margin-30px-bottom sm-margin-30px-top\">\\n\\n        <a href=\"/inspirational-quotes/8094-humility-is-the-solid-foundation-of-all-virtues\"><img alt=\"Humility is the solid foundation of all virtues. #&lt;Author:0x00007f60a12b4860&gt;\" class=\"margin-10px-bottom shadow\" src=\"https://assets.passiton.com/quotes/quote_artwork/8094/medium/20200701_wednesday_quote.jpg?1593310736\" width=\"310\" height=\"310\" /></a>\\n        <h5 class=\\'value_on_red\\'><a href=\"/inspirational-quotes/8094-humility-is-the-solid-foundation-of-all-virtues\">HUMILITY</a></h5>\\n\\n</div><div class=\"col-6 col-lg-3 text-center margin-30px-bottom sm-margin-30px-top\">\\n\\n        <a href=\"/inspirational-quotes/8091-every-person-that-you-meet-knows-something-you\"><img alt=\"Every person that you meet knows something you don&#39;t; learn from them. #&lt;Author:0x00007f60a12c8dd8&gt;\" class=\"margin-10px-bottom shadow\" src=\"https://assets.passiton.com/quotes/quote_artwork/8091/medium/20200630_tuesday_quote.jpg?1593310664\" width=\"310\" height=\"310\" /></a>\\n        <h5 class=\\'value_on_red\\'><a href=\"/inspirational-quotes/8091-every-person-that-you-meet-knows-something-you\">HUMILITY</a></h5>\\n\\n</div><div class=\"col-6 col-lg-3 text-center margin-30px-bottom sm-margin-30px-top\">\\n\\n        <a href=\"/inspirational-quotes/8090-being-humble-means-recognizing-that-we-are-not\"><img alt=\"Being humble means recognizing that we are not on earth to see how important we can become, but to see how much difference we can make in the lives of others. #&lt;Author:0x00007f60a12f89e8&gt;\" class=\"margin-10px-bottom shadow\" src=\"https://assets.passiton.com/quotes/quote_artwork/8090/medium/20200629_monday_quote.jpg?1593310636\" width=\"310\" height=\"310\" /></a>\\n        <h5 class=\\'value_on_red\\'><a href=\"/inspirational-quotes/8090-being-humble-means-recognizing-that-we-are-not\">HUMILITY</a></h5>\\n\\n</div><div class=\"col-6 col-lg-3 text-center margin-30px-bottom sm-margin-30px-top\">\\n\\n        <a href=\"/inspirational-quotes/8088-if-there-is-any-kindness-i-can-show-or-any\"><img alt=\"If there is any kindness I can show, or any good thing I can do to any fellow being, let me do it now, and not deter or neglect it, as I shall not pass this way again. #&lt;Author:0x00007f60a130d140&gt;\" class=\"margin-10px-bottom shadow\" src=\"https://assets.passiton.com/quotes/quote_artwork/8088/medium/20200625_thursday_quote.jpg?1592603953\" width=\"310\" height=\"310\" /></a>\\n        <h5 class=\\'value_on_red\\'><a href=\"/inspirational-quotes/8088-if-there-is-any-kindness-i-can-show-or-any\">COMPASSION</a></h5>\\n\\n</div><div class=\"col-6 col-lg-3 text-center margin-30px-bottom sm-margin-30px-top\">\\n\\n        <a href=\"/inspirational-quotes/4435-compassion-is-not-just-feeling-with-someone\"><img alt=\"Compassion is not just feeling with someone, but seeking to change the situation\\xe2\\x80\\xa6 if you are going to be compassionate, be prepared for action! #&lt;Author:0x00007f60a1326348&gt;\" class=\"margin-10px-bottom shadow\" src=\"https://assets.passiton.com/quotes/quote_artwork/4435/medium/20200622_monday_quote.jpg?1592603537\" width=\"310\" height=\"310\" /></a>\\n        <h5 class=\\'value_on_red\\'><a href=\"/inspirational-quotes/4435-compassion-is-not-just-feeling-with-someone\">COMPASSION</a></h5>\\n\\n</div><div class=\"col-6 col-lg-3 text-center margin-30px-bottom sm-margin-30px-top\">\\n\\n        <a href=\"/inspirational-quotes/7416-compassion-is-the-sometimes-fatal-capacity-for\"><img alt=\"Compassion is the sometimes fatal capacity for feeling what it is like to live inside somebody else&#39;s skin. It&#39;s the knowledge that there can never really be any peace and joy for me until there is peace and joy finally for you too. #&lt;Author:0x00007f60a134d510&gt;\" class=\"margin-10px-bottom shadow\" src=\"https://assets.passiton.com/quotes/quote_artwork/7416/medium/20200624_wednesday_quote.jpg?1592603810\" width=\"310\" height=\"310\" /></a>\\n        <h5 class=\\'value_on_red\\'><a href=\"/inspirational-quotes/7416-compassion-is-the-sometimes-fatal-capacity-for\">COMPASSION</a></h5>\\n\\n</div><div class=\"col-6 col-lg-3 text-center margin-30px-bottom sm-margin-30px-top\">\\n\\n        <a href=\"/inspirational-quotes/7234-be-kind-for-everyone-you-meet-is-fighting-a\"><img alt=\"Be kind, for everyone you meet is fighting a harder battle. #&lt;Author:0x00007f60a1367398&gt;\" class=\"margin-10px-bottom shadow\" src=\"https://assets.passiton.com/quotes/quote_artwork/7234/medium/20200623_tuesday_quote.jpg?1592603574\" width=\"310\" height=\"310\" /></a>\\n        <h5 class=\\'value_on_red\\'><a href=\"/inspirational-quotes/7234-be-kind-for-everyone-you-meet-is-fighting-a\">COMPASSION</a></h5>\\n\\n</div><div class=\"col-6 col-lg-3 text-center margin-30px-bottom sm-margin-30px-top\">\\n\\n        <a href=\"/inspirational-quotes/8089-true-compassion-means-not-only-feeling-anothers\"><img alt=\"True compassion means not only feeling another&#39;s pain but also being moved to help relieve it.  #&lt;Author:0x00007f60a1376258&gt;\" class=\"margin-10px-bottom shadow\" src=\"https://assets.passiton.com/quotes/quote_artwork/8089/medium/20200626_friday_quote.jpg?1592604099\" width=\"310\" height=\"310\" /></a>\\n        <h5 class=\\'value_on_red\\'><a href=\"/inspirational-quotes/8089-true-compassion-means-not-only-feeling-anothers\">COMPASSION</a></h5>\\n\\n</div><div class=\"col-6 col-lg-3 text-center margin-30px-bottom sm-margin-30px-top\">\\n\\n        <a href=\"/inspirational-quotes/8087-treat-people-the-way-you-want-to-be-treated\"><img alt=\"Treat people the way you want to be treated. Talk to people the way you want to be talked to. Respect is earned, not given. #&lt;Author:0x00007f60a1389808&gt;\" class=\"margin-10px-bottom shadow\" src=\"https://assets.passiton.com/quotes/quote_artwork/8087/medium/20200619_friday_quote.jpg?1591992439\" width=\"310\" height=\"310\" /></a>\\n        <h5 class=\\'value_on_red\\'><a href=\"/inspirational-quotes/8087-treat-people-the-way-you-want-to-be-treated\">RESPECT</a></h5>\\n\\n</div><div class=\"col-6 col-lg-3 text-center margin-30px-bottom sm-margin-30px-top\">\\n\\n        <a href=\"/inspirational-quotes/8086-respect-is-one-of-the-greatest-expressions-of\"><img alt=\"Respect is one of the greatest expressions of love. #&lt;Author:0x00007f60a13996b8&gt;\" class=\"margin-10px-bottom shadow\" src=\"https://assets.passiton.com/quotes/quote_artwork/8086/medium/20200618_thursday_quote.jpg?1591992413\" width=\"310\" height=\"310\" /></a>\\n        <h5 class=\\'value_on_red\\'><a href=\"/inspirational-quotes/8086-respect-is-one-of-the-greatest-expressions-of\">RESPECT</a></h5>\\n\\n</div><div class=\"col-6 col-lg-3 text-center margin-30px-bottom sm-margin-30px-top\">\\n\\n        <a href=\"/inspirational-quotes/8085-every-human-being-of-whatever-origin-of\"><img alt=\"Every human being, of whatever origin, of whatever station, deserves respect. We must each respect others even as we respect ourselves. #&lt;Author:0x00007f60a13a84b0&gt;\" class=\"margin-10px-bottom shadow\" src=\"https://assets.passiton.com/quotes/quote_artwork/8085/medium/20200617_wednesday_quote.jpg?1591992357\" width=\"310\" height=\"310\" /></a>\\n        <h5 class=\\'value_on_red\\'><a href=\"/inspirational-quotes/8085-every-human-being-of-whatever-origin-of\">RESPECT</a></h5>\\n\\n</div><div class=\"col-6 col-lg-3 text-center margin-30px-bottom sm-margin-30px-top\">\\n\\n        <a href=\"/inspirational-quotes/7559-respect-is-love-in-action\"><img alt=\"Respect is love in action. #&lt;Author:0x00007f60a13bf430&gt;\" class=\"margin-10px-bottom shadow\" src=\"https://assets.passiton.com/quotes/quote_artwork/7559/medium/20200616_tuesday_quote.jpg?1591992336\" width=\"310\" height=\"310\" /></a>\\n        <h5 class=\\'value_on_red\\'><a href=\"/inspirational-quotes/7559-respect-is-love-in-action\">RESPECT</a></h5>\\n\\n</div><div class=\"col-6 col-lg-3 text-center margin-30px-bottom sm-margin-30px-top\">\\n\\n        <a href=\"/inspirational-quotes/7276-for-to-be-free-is-not-merely-to-cast-off-ones\"><img alt=\"For to be free is not merely to cast off one&#39;s chains, but to live in a way that respects and enhances the freedom of others. #&lt;Author:0x00007f60a13d0f78&gt;\" class=\"margin-10px-bottom shadow\" src=\"https://assets.passiton.com/quotes/quote_artwork/7276/medium/20200615_monday_quote.jpg?1591992311\" width=\"310\" height=\"310\" /></a>\\n        <h5 class=\\'value_on_red\\'><a href=\"/inspirational-quotes/7276-for-to-be-free-is-not-merely-to-cast-off-ones\">RESPECT</a></h5>\\n\\n</div><div class=\"col-6 col-lg-3 text-center margin-30px-bottom sm-margin-30px-top\">\\n\\n        <a href=\"/inspirational-quotes/7883-deep-listening-is-the-kind-of-listening-that\"><img alt=\"Deep listening is the kind of listening that can help relieve the suffering of another person... You listen with only one purpose: to help him or her to empty their heart.  #&lt;Author:0x00007f60a13ec1d8&gt;\" class=\"margin-10px-bottom shadow\" src=\"https://assets.passiton.com/quotes/quote_artwork/7883/medium/thich_updated_quote_artwork.jpg?1591982830\" width=\"310\" height=\"310\" /></a>\\n        <h5 class=\\'value_on_red\\'><a href=\"/inspirational-quotes/7883-deep-listening-is-the-kind-of-listening-that\">LISTENING</a></h5>\\n\\n</div><div class=\"col-6 col-lg-3 text-center margin-30px-bottom sm-margin-30px-top\">\\n\\n        <a href=\"/inspirational-quotes/5292-the-most-basic-of-all-human-needs-is-the-need\"><img alt=\"The most basic of all human needs is the need to understand and be understood. The best way to understand people is to listen to them. #&lt;Author:0x00007f60a1414908&gt;\" class=\"margin-10px-bottom shadow\" src=\"https://assets.passiton.com/quotes/quote_artwork/5292/medium/20200611_thursday_quote.jpg?1591393755\" width=\"310\" height=\"310\" /></a>\\n        <h5 class=\\'value_on_red\\'><a href=\"/inspirational-quotes/5292-the-most-basic-of-all-human-needs-is-the-need\">LISTENING</a></h5>\\n\\n</div><div class=\"col-6 col-lg-3 text-center margin-30px-bottom sm-margin-30px-top\">\\n\\n        <a href=\"/inspirational-quotes/8081-one-of-the-most-sincere-forms-of-respect-is\"><img alt=\"One of the most sincere forms of respect is actually listening to what another has to say. #&lt;Author:0x00007f60a1430388&gt;\" class=\"margin-10px-bottom shadow\" src=\"https://assets.passiton.com/quotes/quote_artwork/8081/medium/20200609_tuesday_quote.jpg?1591393705\" width=\"310\" height=\"310\" /></a>\\n        <h5 class=\\'value_on_red\\'><a href=\"/inspirational-quotes/8081-one-of-the-most-sincere-forms-of-respect-is\">LISTENING</a></h5>\\n\\n</div><div class=\"col-6 col-lg-3 text-center margin-30px-bottom sm-margin-30px-top\">\\n\\n        <a href=\"/inspirational-quotes/8083-listen-with-curiosity-speak-with-honesty-act\"><img alt=\"Listen with curiosity. Speak with honesty. Act with integrity. #&lt;Author:0x00007f60a1449978&gt;\" class=\"margin-10px-bottom shadow\" src=\"https://assets.passiton.com/quotes/quote_artwork/8083/medium/20200610_wednesday_quote.jpg?1591549771\" width=\"310\" height=\"310\" /></a>\\n        <h5 class=\\'value_on_red\\'><a href=\"/inspirational-quotes/8083-listen-with-curiosity-speak-with-honesty-act\">LISTENING</a></h5>\\n\\n</div><div class=\"col-6 col-lg-3 text-center margin-30px-bottom sm-margin-30px-top\">\\n\\n        <a href=\"/inspirational-quotes/8082-the-word-listen-contains-the-same-letters-as\"><img alt=\"The word &#39;listen&#39; contains the same letters as the word &#39;silent&#39;. #&lt;Author:0x00007f60a14678b0&gt;\" class=\"margin-10px-bottom shadow\" src=\"https://assets.passiton.com/quotes/quote_artwork/8082/medium/20200608_monday_quote_alternate.jpg?1591474382\" width=\"310\" height=\"310\" /></a>\\n        <h5 class=\\'value_on_red\\'><a href=\"/inspirational-quotes/8082-the-word-listen-contains-the-same-letters-as\">LISTENING</a></h5>\\n\\n</div>\\n        </div>\\n\\n        <div class=\"row\">\\n            <div class=\"col-12 text-center\">\\n                <div class=\"quotes_pagination\"><span class=\"previous_page disabled\">&#8592; Previous</span> <em class=\"current\">1</em> <a rel=\"next\" href=\"/inspirational-quotes?page=2\">2</a> <a href=\"/inspirational-quotes?page=3\">3</a> <a href=\"/inspirational-quotes?page=4\">4</a> <a href=\"/inspirational-quotes?page=5\">5</a> <a href=\"/inspirational-quotes?page=6\">6</a> <a href=\"/inspirational-quotes?page=7\">7</a> <a href=\"/inspirational-quotes?page=8\">8</a> <a href=\"/inspirational-quotes?page=9\">9</a> <span class=\"gap\">&hellip;</span> <a href=\"/inspirational-quotes?page=117\">117</a> <a href=\"/inspirational-quotes?page=118\">118</a> <a class=\"next_page\" rel=\"next\" href=\"/inspirational-quotes?page=2\">Next &#8594;</a></div>\\n            </div>\\n        </div>\\n\\n    </div>\\n</section>\\n        <footer class=\"footer-classic-dark bg-extra-dark-gray padding-five-bottom sm-padding-30px-bottom\">\\n    <div class=\"bg-dark-footer padding-50px-tb sm-padding-30px-tb\">\\n        <div class=\"container\">\\n            <div class=\"row align-items-center\">\\n\\n                <div class=\"col-lg-4 col-md-5 text-center alt-font sm-margin-15px-bottom\">\\n                    Pass It On<sup>\\xc2\\xae</sup>\\n                </div>\\n\\n                <div class=\"col-lg-4 col-md-2 text-center sm-margin-10px-bottom\">\\n                    <a href=\"/\"><img class=\"footer-logo\" data-rjs=\"/assets/site/fbl_logo-b50da7cb3567063fca4dec74f28f07c4.png\" alt=\"The Foundation for a Better Life\" src=\"/assets/site/fbl_logo-b50da7cb3567063fca4dec74f28f07c4.png\" /></a>\\n                </div>\\n\\n                <div class=\"col-lg-4 col-md-5 text-center\">\\n                    <span class=\"alt-font margin-20px-right\">Follow us on social</span>\\n                    <div class=\"social-icon-style-8 d-inline-block vertical-align-middle\">\\n                        <ul class=\"small-icon mb-0\">\\n                            <li><a class=\"facebook text-white-2\" href=\"https://www.facebook.com/valuescom\" target=\"_blank\"><i class=\"fab fa-facebook-f\" aria-hidden=\"true\"></i></a></li>\\n                            <li><a class=\"twitter text-white-2\" href=\"https://twitter.com/passiton_values\" target=\"_blank\"><i class=\"fab fa-twitter\"></i></a></li>\\n                            <li><a class=\"instagram text-white-2\" href=\"https://www.instagram.com/passiton_values/\" target=\"_blank\"><i class=\"fab fa-instagram no-margin-right\" aria-hidden=\"true\"></i></a></li>\\n                            <li><a class=\"pinterest text-white-2\" href=\"https://www.pinterest.com/passiton_values/\" target=\"_blank\"><i class=\"fab fa-pinterest no-margin-right\" aria-hidden=\"true\"></i></a></li>\\n                            <li><a class=\"youtube text-white-2\" href=\"https://www.youtube.com/c/passiton_values\" target=\"_blank\"><i class=\"fab fa-youtube no-margin-right\" aria-hidden=\"true\"></i></a></li>\\n                        </ul>\\n                    </div>\\n                </div>\\n\\n            </div>\\n        </div>\\n    </div>\\n    <div class=\"footer-widget-area padding-five-top padding-30px-bottom sm-padding-30px-top\">\\n        <div class=\"container\">\\n            <div class=\"row\">\\n\\n                <div class=\"col-lg-3 col-md-6 widget border-right border-color-medium-dark-gray padding-45px-left md-padding-15px-left md-no-border-right md-margin-30px-bottom text-center text-md-left\">\\n                    <div class=\"widget-title alt-font text-small text-medium-gray text-uppercase margin-10px-bottom font-weight-600\">About Us</div>\\n                    <ul class=\"list-unstyled\">\\n                        <li><a class=\"text-small\" href=\"/who-we-are\">About The Foundation for a Better Life</a></li>\\n                        <li><a class=\"text-small\" href=\"/faqs\">FAQs</a></li>\\n                        <li><a class=\"text-small\" href=\"/foundation-recognition\">Foundation Recognition</a></li>\\n                        <li><a class=\"text-small\" href=\"/contact-us\">Contact Us</a></li>\\n                    </ul>\\n                </div>\\n\\n                <div class=\"col-lg-3 col-md-6 widget border-right border-color-medium-dark-gray padding-45px-left md-padding-15px-left md-no-border-right md-margin-30px-bottom text-center text-md-left\">\\n                    <div class=\"widget-title alt-font text-small text-medium-gray text-uppercase margin-10px-bottom font-weight-600\">Be Inspired</div>\\n                    <ul class=\"list-unstyled\">\\n                        <li><a class=\"text-small\" href=\"/teaching-values\">Teaching Values</a></li>\\n                        <li><a class=\"text-small\" href=\"/inspirational-quotes\">Inspirational Quotations</a></li>\\n                        <li><a class=\"text-small\" href=\"/inspirational-stories-tv-spots\">Pass It On\\xc2\\xae Videos</a></li>\\n                        <li><a class=\"text-small\" href=\"/your-everyday-heroes\">Who&#39;s Your Hero Stories</a></li>\\n                        <li><a class=\"text-small\" href=\"/inspirational-sayings-billboards\">Official Billboard Campaign</a></li>\\n                        <li><a class=\"text-small\" href=\"/your-billboards\">Create Your Own Billboard</a></li>\\n                        <li><a class=\"text-small\" href=\"/radio\">Radio Ads</a></li>\\n                        <li><a class=\"text-small\" href=\"/inspirational-audio-stories\">Podcasts</a></li>\\n                        <li><a class=\"text-small\" href=\"/pass-it-on-ecards\">Send an Ecard</a></li>\\n                    </ul>\\n                </div>\\n\\n                <div class=\"col-lg-3 col-md-6 widget border-right border-color-medium-dark-gray padding-45px-left md-padding-15px-left md-no-border-right md-margin-30px-bottom text-center text-md-left\">\\n                    <div class=\"widget-title alt-font text-small text-medium-gray text-uppercase margin-10px-bottom font-weight-600\">For Schools</div>\\n                    <ul class=\"list-unstyled\">\\n                        <li><a class=\"text-small\" href=\"/poster-requests/new\">Free Posters &amp; DVD for Schools</a></li>\\n                        <li><a class=\"text-small\" href=\"/pass-it-on-downloads\">Downloads</a></li>\\n                    </ul>\\n                </div>\\n\\n                <div class=\"col-lg-3 col-md-6 widget padding-45px-left md-padding-15px-left md-no-border-right md-margin-30px-bottom text-center text-md-left\">\\n                    <div class=\"widget-title alt-font text-small text-medium-gray text-uppercase margin-10px-bottom font-weight-600\">For Media Companies</div>\\n                    <ul class=\"list-unstyled\">\\n                        <li><a class=\"text-small\" href=\"/for-media-companies\">For Media Companies</a></li>\\n                        <li><a class=\"text-small\" href=\"https://www.passiton-media.com\">Broadcast Quality PSA Downloads</a></li>\\n                        <li><a class=\"text-small\" href=\"https://www.passiton-media.com\">Pass It On Radio Ads</a></li>\\n                        <li><a class=\"text-small\" href=\"https://www.passiton-media.com\">Live Reads</a></li>\\n                        <li><a class=\"text-small\" href=\"https://www.passiton-media.com\">Out of Home Materials</a></li>\\n                    </ul>\\n                    <div class=\\'row sm-margin-30px-top\\'>\\n                        <div class=\\'col-lg-4\\'>\\n                            <a href=\"/\"><img style=\"max-width: 70px;\" src=\"/assets/site/values_logo-cd29ec5f2f086673ac42962263d07e02.png\" alt=\"Values logo\" /></a>\\n                        </div>\\n                        <div class=\\'col-lg-7\\'>\\n                            <p class=\\'text-medium-gray text-small padding-10px-top\\'>VALUES.COM<small>\\xc2\\xae</small> is now PassItOn.com<small>\\xc2\\xae</small></p>\\n                        </div>\\n                    </div>\\n                </div>\\n\\n            </div>\\n        </div>\\n    </div>\\n    <div class=\"container\">\\n        <div class=\"footer-bottom border-top border-color-medium-dark-gray padding-30px-top\">\\n            <div class=\"row\">\\n                <div class=\"col-lg-6 col-md-6 text-small text-md-left text-center\">\\xc2\\xa92000-2020 The Foundation for a Better Life.</div>\\n                <div class=\"col-lg-6 col-md-6 text-small text-md-right text-center\"><a href=\"/privacy-policy\">Privacy Policy</a>&nbsp;&nbsp;&nbsp;|&nbsp;&nbsp;&nbsp;<a href=\"/terms-of-use\">Terms of Use</a></div>\\n            </div>\\n        </div>\\n    </div>\\n</footer>\\n        <a class=\"scroll-top-arrow\" href=\"javascript:void(0);\"><i class=\"ti-arrow-up\"></i></a>\\n        <script src=\"https://cdnjs.cloudflare.com/ajax/libs/jquery/1.12.4/jquery.js\"></script>\\n        <script src=\"https://cdnjs.cloudflare.com/ajax/libs/popper.js/1.14.7/umd/popper.min.js\" integrity=\"sha384-UO2eT0CpHqdSJQ6hJty5KVphtPhzWj9WO1clHTMGa3JDZwrnQq4sF86dIHNDz0W1\" crossorigin=\"anonymous\"></script>\\n        <script src=\"https://stackpath.bootstrapcdn.com/bootstrap/4.3.1/js/bootstrap.min.js\" integrity=\"sha384-JjSmVgyd0p3pXB1rRibZUAYoIIy6OrQ6VrjIEaFf/nJGzIxFDsf4x0xIM+B07jRM\" crossorigin=\"anonymous\"></script>\\n        <script src=\"/assets/pofo-3d0d89a27285d93c09e0f4c1fc85cead.js\"></script>\\n        \\n    </body>\\n</html>'\n"
     ]
    }
   ],
   "source": [
    "print(response.content)"
   ]
  },
  {
   "cell_type": "code",
   "execution_count": 11,
   "metadata": {},
   "outputs": [],
   "source": [
    "soup = bs4.BeautifulSoup(response.content)"
   ]
  },
  {
   "cell_type": "code",
   "execution_count": 31,
   "metadata": {},
   "outputs": [],
   "source": [
    "images = soup.findAll('img')\n",
    "images = images[2:]\n",
    "images = images[:-2]"
   ]
  },
  {
   "cell_type": "code",
   "execution_count": 32,
   "metadata": {},
   "outputs": [
    {
     "name": "stdout",
     "output_type": "stream",
     "text": [
      "[<img alt=\"Good character is more to be praised than outstanding talent. Most talents are to some extent a gift. Good character, by contrast, is not given to us. We have to build it piece by piece by thought, choice, courage and determination. #&lt;Author:0x00007f60a116e280&gt;\" class=\"margin-10px-bottom shadow\" height=\"310\" src=\"https://assets.passiton.com/quotes/quote_artwork/7364/medium/20200721_tuesday_quote.jpg?1595010959\" width=\"310\"/>, <img alt=\"People grow through experience if they meet life honestly and courageously. This is how character is built. #&lt;Author:0x00007f60a117d848&gt;\" class=\"margin-10px-bottom shadow\" height=\"310\" src=\"https://assets.passiton.com/quotes/quote_artwork/4393/medium/20200720_monday_quote.jpg?1595010931\" width=\"310\"/>, <img alt=\"A life lived with integrity… is a shining star in whose light others may follow in the years to come. #&lt;Author:0x00007f60a1192bd0&gt;\" class=\"margin-10px-bottom shadow\" height=\"310\" src=\"https://assets.passiton.com/quotes/quote_artwork/8100/medium/20200717_friday_quote.jpg?1594411651\" width=\"310\"/>, <img alt=\"The greatness of a man is not in how much wealth he acquires, but in his integrity and his ability to affect those around him positively. #&lt;Author:0x00007f60a11c59b8&gt;\" class=\"margin-10px-bottom shadow\" height=\"310\" src=\"https://assets.passiton.com/quotes/quote_artwork/8099/medium/20200716_thursday_quote.jpg?1594411624\" width=\"310\"/>, <img alt=\"Real integrity is doing the right thing, knowing that nobody’s going to know whether you did it or not. #&lt;Author:0x00007f60a11de788&gt;\" class=\"margin-10px-bottom shadow\" height=\"310\" src=\"https://assets.passiton.com/quotes/quote_artwork/7654/medium/20200715_wednesday_quote.jpg?1594411583\" width=\"310\"/>, <img alt=\"The time is always right to do what is right. #&lt;Author:0x00007f60a12044b0&gt;\" class=\"margin-10px-bottom shadow\" height=\"310\" src=\"https://assets.passiton.com/quotes/quote_artwork/8098/medium/20200714_tuesday_quote.jpg?1594411553\" width=\"310\"/>, <img alt=\"Integrity is choosing courage over comfort; choosing what is right over what is fun, fast, or easy; and choosing to practice our values rather than simply professing them. #&lt;Author:0x00007f60a12185f0&gt;\" class=\"margin-10px-bottom shadow\" height=\"310\" src=\"https://assets.passiton.com/quotes/quote_artwork/7655/medium/20200713_monday_quote.jpg?1594411527\" width=\"310\"/>, <img alt=\"We are all in this together. #&lt;Author:0x00007f60a122def0&gt;\" class=\"margin-10px-bottom shadow\" height=\"310\" src=\"https://assets.passiton.com/quotes/quote_artwork/8097/medium/20200710_friday_quote_alternate.jpg?1593898946\" width=\"310\"/>, <img alt=\"The essence of the beautiful is unity in variety. #&lt;Author:0x00007f60a12475f8&gt;\" class=\"margin-10px-bottom shadow\" height=\"310\" src=\"https://assets.passiton.com/quotes/quote_artwork/7586/medium/20200709_thursday_quote.jpg?1593731309\" width=\"310\"/>, <img alt=\"Unity is strength…when there is teamwork and collaboration, wonderful things can be achieved. #&lt;Author:0x00007f60a125a7c0&gt;\" class=\"margin-10px-bottom shadow\" height=\"310\" src=\"https://assets.passiton.com/quotes/quote_artwork/7941/medium/20200708_wednesday_quote.jpg?1593731279\" width=\"310\"/>, <img alt=\"Unity does not mean sameness. It means oneness of purpose. #&lt;Author:0x00007f60a1269db0&gt;\" class=\"margin-10px-bottom shadow\" height=\"310\" src=\"https://assets.passiton.com/quotes/quote_artwork/8096/medium/20200707_tuesday_quote.jpg?1593731221\" width=\"310\"/>, <img alt=\"The foundation of freedom is unity. #&lt;Author:0x00007f60a127d658&gt;\" class=\"margin-10px-bottom shadow\" height=\"310\" src=\"https://assets.passiton.com/quotes/quote_artwork/8095/medium/20200706_monday_quote.jpg?1593731201\" width=\"310\"/>, <img alt=\"Freedom lies in being bold. #&lt;Author:0x00007f60a12975f8&gt;\" class=\"margin-10px-bottom shadow\" height=\"310\" src=\"https://assets.passiton.com/quotes/quote_artwork/7780/medium/20200703_friday_quote.jpg?1593310853\" width=\"310\"/>, <img alt=\"There is nothing noble in being superior to your fellow man; true nobility is being superior to your former self. #&lt;Author:0x00007f60a12a7638&gt;\" class=\"margin-10px-bottom shadow\" height=\"310\" src=\"https://assets.passiton.com/quotes/quote_artwork/8092/medium/20200702_thursday_quote.jpg?1593310767\" width=\"310\"/>, <img alt=\"Humility is the solid foundation of all virtues. #&lt;Author:0x00007f60a12b4860&gt;\" class=\"margin-10px-bottom shadow\" height=\"310\" src=\"https://assets.passiton.com/quotes/quote_artwork/8094/medium/20200701_wednesday_quote.jpg?1593310736\" width=\"310\"/>, <img alt=\"Every person that you meet knows something you don't; learn from them. #&lt;Author:0x00007f60a12c8dd8&gt;\" class=\"margin-10px-bottom shadow\" height=\"310\" src=\"https://assets.passiton.com/quotes/quote_artwork/8091/medium/20200630_tuesday_quote.jpg?1593310664\" width=\"310\"/>, <img alt=\"Being humble means recognizing that we are not on earth to see how important we can become, but to see how much difference we can make in the lives of others. #&lt;Author:0x00007f60a12f89e8&gt;\" class=\"margin-10px-bottom shadow\" height=\"310\" src=\"https://assets.passiton.com/quotes/quote_artwork/8090/medium/20200629_monday_quote.jpg?1593310636\" width=\"310\"/>, <img alt=\"If there is any kindness I can show, or any good thing I can do to any fellow being, let me do it now, and not deter or neglect it, as I shall not pass this way again. #&lt;Author:0x00007f60a130d140&gt;\" class=\"margin-10px-bottom shadow\" height=\"310\" src=\"https://assets.passiton.com/quotes/quote_artwork/8088/medium/20200625_thursday_quote.jpg?1592603953\" width=\"310\"/>, <img alt=\"Compassion is not just feeling with someone, but seeking to change the situation… if you are going to be compassionate, be prepared for action! #&lt;Author:0x00007f60a1326348&gt;\" class=\"margin-10px-bottom shadow\" height=\"310\" src=\"https://assets.passiton.com/quotes/quote_artwork/4435/medium/20200622_monday_quote.jpg?1592603537\" width=\"310\"/>, <img alt=\"Compassion is the sometimes fatal capacity for feeling what it is like to live inside somebody else's skin. It's the knowledge that there can never really be any peace and joy for me until there is peace and joy finally for you too. #&lt;Author:0x00007f60a134d510&gt;\" class=\"margin-10px-bottom shadow\" height=\"310\" src=\"https://assets.passiton.com/quotes/quote_artwork/7416/medium/20200624_wednesday_quote.jpg?1592603810\" width=\"310\"/>, <img alt=\"Be kind, for everyone you meet is fighting a harder battle. #&lt;Author:0x00007f60a1367398&gt;\" class=\"margin-10px-bottom shadow\" height=\"310\" src=\"https://assets.passiton.com/quotes/quote_artwork/7234/medium/20200623_tuesday_quote.jpg?1592603574\" width=\"310\"/>, <img alt=\"True compassion means not only feeling another's pain but also being moved to help relieve it.  #&lt;Author:0x00007f60a1376258&gt;\" class=\"margin-10px-bottom shadow\" height=\"310\" src=\"https://assets.passiton.com/quotes/quote_artwork/8089/medium/20200626_friday_quote.jpg?1592604099\" width=\"310\"/>, <img alt=\"Treat people the way you want to be treated. Talk to people the way you want to be talked to. Respect is earned, not given. #&lt;Author:0x00007f60a1389808&gt;\" class=\"margin-10px-bottom shadow\" height=\"310\" src=\"https://assets.passiton.com/quotes/quote_artwork/8087/medium/20200619_friday_quote.jpg?1591992439\" width=\"310\"/>, <img alt=\"Respect is one of the greatest expressions of love. #&lt;Author:0x00007f60a13996b8&gt;\" class=\"margin-10px-bottom shadow\" height=\"310\" src=\"https://assets.passiton.com/quotes/quote_artwork/8086/medium/20200618_thursday_quote.jpg?1591992413\" width=\"310\"/>, <img alt=\"Every human being, of whatever origin, of whatever station, deserves respect. We must each respect others even as we respect ourselves. #&lt;Author:0x00007f60a13a84b0&gt;\" class=\"margin-10px-bottom shadow\" height=\"310\" src=\"https://assets.passiton.com/quotes/quote_artwork/8085/medium/20200617_wednesday_quote.jpg?1591992357\" width=\"310\"/>, <img alt=\"Respect is love in action. #&lt;Author:0x00007f60a13bf430&gt;\" class=\"margin-10px-bottom shadow\" height=\"310\" src=\"https://assets.passiton.com/quotes/quote_artwork/7559/medium/20200616_tuesday_quote.jpg?1591992336\" width=\"310\"/>, <img alt=\"For to be free is not merely to cast off one's chains, but to live in a way that respects and enhances the freedom of others. #&lt;Author:0x00007f60a13d0f78&gt;\" class=\"margin-10px-bottom shadow\" height=\"310\" src=\"https://assets.passiton.com/quotes/quote_artwork/7276/medium/20200615_monday_quote.jpg?1591992311\" width=\"310\"/>, <img alt=\"Deep listening is the kind of listening that can help relieve the suffering of another person... You listen with only one purpose: to help him or her to empty their heart.  #&lt;Author:0x00007f60a13ec1d8&gt;\" class=\"margin-10px-bottom shadow\" height=\"310\" src=\"https://assets.passiton.com/quotes/quote_artwork/7883/medium/thich_updated_quote_artwork.jpg?1591982830\" width=\"310\"/>, <img alt=\"The most basic of all human needs is the need to understand and be understood. The best way to understand people is to listen to them. #&lt;Author:0x00007f60a1414908&gt;\" class=\"margin-10px-bottom shadow\" height=\"310\" src=\"https://assets.passiton.com/quotes/quote_artwork/5292/medium/20200611_thursday_quote.jpg?1591393755\" width=\"310\"/>, <img alt=\"One of the most sincere forms of respect is actually listening to what another has to say. #&lt;Author:0x00007f60a1430388&gt;\" class=\"margin-10px-bottom shadow\" height=\"310\" src=\"https://assets.passiton.com/quotes/quote_artwork/8081/medium/20200609_tuesday_quote.jpg?1591393705\" width=\"310\"/>, <img alt=\"Listen with curiosity. Speak with honesty. Act with integrity. #&lt;Author:0x00007f60a1449978&gt;\" class=\"margin-10px-bottom shadow\" height=\"310\" src=\"https://assets.passiton.com/quotes/quote_artwork/8083/medium/20200610_wednesday_quote.jpg?1591549771\" width=\"310\"/>, <img alt=\"The word 'listen' contains the same letters as the word 'silent'. #&lt;Author:0x00007f60a14678b0&gt;\" class=\"margin-10px-bottom shadow\" height=\"310\" src=\"https://assets.passiton.com/quotes/quote_artwork/8082/medium/20200608_monday_quote_alternate.jpg?1591474382\" width=\"310\"/>]\n"
     ]
    }
   ],
   "source": [
    "print(images)"
   ]
  },
  {
   "cell_type": "code",
   "execution_count": 33,
   "metadata": {},
   "outputs": [
    {
     "data": {
      "text/plain": [
       "'https://assets.passiton.com/quotes/quote_artwork/7364/medium/20200721_tuesday_quote.jpg?1595010959'"
      ]
     },
     "execution_count": 33,
     "metadata": {},
     "output_type": "execute_result"
    }
   ],
   "source": [
    "# now we have all the img tags we need\n",
    "# need to extract the src tag's value\n",
    "# soup creates a dictionary of all the attributes called attrs\n",
    "images[0].attrs['src']"
   ]
  },
  {
   "cell_type": "code",
   "execution_count": 34,
   "metadata": {},
   "outputs": [],
   "source": [
    "# now we need to write the image in a file\n",
    "with open('inspiration.jpg', 'wb') as file:\n",
    "    image_url = images[0].attrs['src']\n",
    "    response = requests.get(image_url)\n",
    "    file.write(response.content)"
   ]
  },
  {
   "cell_type": "code",
   "execution_count": 35,
   "metadata": {},
   "outputs": [],
   "source": [
    "# we can iterate over all the elements and download all the files\n",
    "# for i, article in enumerate(images):\n",
    "#     with open('inspiration{}.jpg'.format(i), 'wb') as file:\n",
    "#         image_url = images[i].attrs['src']\n",
    "#         response = requests.get(image_url)\n",
    "#         file.write(response.content)"
   ]
  },
  {
   "cell_type": "code",
   "execution_count": null,
   "metadata": {},
   "outputs": [],
   "source": []
  }
 ],
 "metadata": {
  "kernelspec": {
   "display_name": "Python 3",
   "language": "python",
   "name": "python3"
  },
  "language_info": {
   "codemirror_mode": {
    "name": "ipython",
    "version": 3
   },
   "file_extension": ".py",
   "mimetype": "text/x-python",
   "name": "python",
   "nbconvert_exporter": "python",
   "pygments_lexer": "ipython3",
   "version": "3.7.6"
  }
 },
 "nbformat": 4,
 "nbformat_minor": 4
}
