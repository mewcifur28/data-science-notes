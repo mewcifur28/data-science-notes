{
 "cells": [
  {
   "cell_type": "code",
   "execution_count": 1,
   "metadata": {},
   "outputs": [
    {
     "name": "stdout",
     "output_type": "stream",
     "text": [
      "Collecting scrapy\n",
      "  Downloading Scrapy-2.2.1-py2.py3-none-any.whl (241 kB)\n",
      "Requirement already satisfied: cryptography>=2.0 in d:\\anaconda3\\lib\\site-packages (from scrapy) (2.8)\n",
      "Requirement already satisfied: lxml>=3.5.0 in d:\\anaconda3\\lib\\site-packages (from scrapy) (4.5.0)\n",
      "Collecting service-identity>=16.0.0\n",
      "  Downloading service_identity-18.1.0-py2.py3-none-any.whl (11 kB)\n",
      "Collecting cssselect>=0.9.1\n",
      "  Downloading cssselect-1.1.0-py2.py3-none-any.whl (16 kB)\n",
      "Collecting Twisted>=17.9.0\n",
      "  Downloading Twisted-20.3.0-cp37-cp37m-win_amd64.whl (3.1 MB)\n",
      "Collecting zope.interface>=4.1.3\n",
      "  Downloading zope.interface-5.1.0-cp37-cp37m-win_amd64.whl (194 kB)\n",
      "Collecting parsel>=1.5.0\n",
      "  Downloading parsel-1.6.0-py2.py3-none-any.whl (13 kB)\n",
      "Collecting w3lib>=1.17.0\n",
      "  Downloading w3lib-1.22.0-py2.py3-none-any.whl (20 kB)\n",
      "Collecting protego>=0.1.15\n",
      "  Downloading Protego-0.1.16.tar.gz (3.2 MB)\n",
      "Collecting PyDispatcher>=2.0.5\n",
      "  Downloading PyDispatcher-2.0.5.tar.gz (34 kB)\n",
      "Collecting queuelib>=1.4.2\n",
      "  Downloading queuelib-1.5.0-py2.py3-none-any.whl (13 kB)\n",
      "Collecting itemadapter>=0.1.0\n",
      "  Downloading itemadapter-0.1.0-py3-none-any.whl (7.0 kB)\n",
      "Requirement already satisfied: pyOpenSSL>=16.2.0 in d:\\anaconda3\\lib\\site-packages (from scrapy) (19.1.0)\n",
      "Requirement already satisfied: six>=1.4.1 in d:\\anaconda3\\lib\\site-packages (from cryptography>=2.0->scrapy) (1.14.0)\n",
      "Requirement already satisfied: cffi!=1.11.3,>=1.8 in d:\\anaconda3\\lib\\site-packages (from cryptography>=2.0->scrapy) (1.14.0)\n",
      "Requirement already satisfied: attrs>=16.0.0 in d:\\anaconda3\\lib\\site-packages (from service-identity>=16.0.0->scrapy) (19.3.0)\n",
      "Collecting pyasn1\n",
      "  Downloading pyasn1-0.4.8-py2.py3-none-any.whl (77 kB)\n",
      "Collecting pyasn1-modules\n",
      "  Downloading pyasn1_modules-0.2.8-py2.py3-none-any.whl (155 kB)\n",
      "Collecting hyperlink>=17.1.1\n",
      "  Downloading hyperlink-19.0.0-py2.py3-none-any.whl (38 kB)\n",
      "Collecting constantly>=15.1\n",
      "  Downloading constantly-15.1.0-py2.py3-none-any.whl (7.9 kB)\n",
      "Collecting PyHamcrest!=1.10.0,>=1.9.0\n",
      "  Downloading PyHamcrest-2.0.2-py3-none-any.whl (52 kB)\n",
      "Collecting incremental>=16.10.1\n",
      "  Downloading incremental-17.5.0-py2.py3-none-any.whl (16 kB)\n",
      "Collecting Automat>=0.3.0\n",
      "  Downloading Automat-20.2.0-py2.py3-none-any.whl (31 kB)\n",
      "Requirement already satisfied: setuptools in d:\\anaconda3\\lib\\site-packages (from zope.interface>=4.1.3->scrapy) (45.2.0.post20200210)\n",
      "Requirement already satisfied: pycparser in d:\\anaconda3\\lib\\site-packages (from cffi!=1.11.3,>=1.8->cryptography>=2.0->scrapy) (2.19)\n",
      "Requirement already satisfied: idna>=2.5 in d:\\anaconda3\\lib\\site-packages (from hyperlink>=17.1.1->Twisted>=17.9.0->scrapy) (2.8)\n",
      "Building wheels for collected packages: protego, PyDispatcher\n",
      "  Building wheel for protego (setup.py): started\n",
      "  Building wheel for protego (setup.py): finished with status 'done'\n",
      "  Created wheel for protego: filename=Protego-0.1.16-py3-none-any.whl size=7769 sha256=9ab67bab98a25bf66f65ee9e60cf1bc848f12ad39ff286df0283ea5abac6833c\n",
      "  Stored in directory: c:\\users\\ishita\\appdata\\local\\pip\\cache\\wheels\\ca\\44\\01\\3592ccfbcfaee4ab297c4097e6e9dbe1c7697e3531a39877ab\n",
      "  Building wheel for PyDispatcher (setup.py): started\n",
      "  Building wheel for PyDispatcher (setup.py): finished with status 'done'\n",
      "  Created wheel for PyDispatcher: filename=PyDispatcher-2.0.5-py3-none-any.whl size=12552 sha256=491244966ab4c30b7c7888ee00e258f920c87247dfff2eaa1a88aa02141ee77e\n",
      "  Stored in directory: c:\\users\\ishita\\appdata\\local\\pip\\cache\\wheels\\dc\\d0\\bf\\0cc715c01fce0bace63b46283acf5cc630d5e5dbb4602c54e5\n",
      "Successfully built protego PyDispatcher\n",
      "Installing collected packages: pyasn1, pyasn1-modules, service-identity, cssselect, zope.interface, hyperlink, constantly, PyHamcrest, incremental, Automat, Twisted, w3lib, parsel, protego, PyDispatcher, queuelib, itemadapter, scrapy\n",
      "Successfully installed Automat-20.2.0 PyDispatcher-2.0.5 PyHamcrest-2.0.2 Twisted-20.3.0 constantly-15.1.0 cssselect-1.1.0 hyperlink-19.0.0 incremental-17.5.0 itemadapter-0.1.0 parsel-1.6.0 protego-0.1.16 pyasn1-0.4.8 pyasn1-modules-0.2.8 queuelib-1.5.0 scrapy-2.2.1 service-identity-18.1.0 w3lib-1.22.0 zope.interface-5.1.0\n"
     ]
    }
   ],
   "source": [
    "!pip install scrapy"
   ]
  }
 ],
 "metadata": {
  "kernelspec": {
   "display_name": "Python 3",
   "language": "python",
   "name": "python3"
  },
  "language_info": {
   "codemirror_mode": {
    "name": "ipython",
    "version": 3
   },
   "file_extension": ".py",
   "mimetype": "text/x-python",
   "name": "python",
   "nbconvert_exporter": "python",
   "pygments_lexer": "ipython3",
   "version": "3.7.6"
  }
 },
 "nbformat": 4,
 "nbformat_minor": 4
}
