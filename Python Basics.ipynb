{
 "cells": [
  {
   "cell_type": "markdown",
   "metadata": {},
   "source": [
    "# Jupyter Basics\n",
    "\n"
   ]
  },
  {
   "cell_type": "code",
   "execution_count": 3,
   "metadata": {},
   "outputs": [
    {
     "name": "stdout",
     "output_type": "stream",
     "text": [
      "single statement in a cell\n"
     ]
    }
   ],
   "source": [
    "print('single statement in a cell')"
   ]
  },
  {
   "cell_type": "code",
   "execution_count": 5,
   "metadata": {
    "scrolled": true
   },
   "outputs": [
    {
     "name": "stdout",
     "output_type": "stream",
     "text": [
      "there can be\n",
      "multiple\n",
      "statements too\n"
     ]
    }
   ],
   "source": [
    "print('there can be')\n",
    "print('multiple')\n",
    "print('statements too')"
   ]
  },
  {
   "cell_type": "markdown",
   "metadata": {},
   "source": [
    "### This is a markdown cell\n",
    "We can have : \n",
    "- markdown cells\n",
    "- code cells"
   ]
  },
  {
   "cell_type": "markdown",
   "metadata": {},
   "source": [
    "### To convert a cell to markdown/ code: \n",
    "#### (follow the instructions before executing the cell)\n",
    "- esc + m (for markdown)\n",
    "- esc + y (for executable code)"
   ]
  },
  {
   "cell_type": "markdown",
   "metadata": {},
   "source": [
    "### * args and ** kwargs\n",
    "Format to be followed:\n",
    "```def fn(a, b, c, *args, d = 5, e = 6, **kwargs)```\n",
    "ie, first the mandatory positional arguments, then the remaining `*args` positional arguments\n",
    "then the default keyword arguments, and then the rest of the `**kwargs` keyword arguments"
   ]
  },
  {
   "cell_type": "markdown",
   "metadata": {},
   "source": [
    "### Lambda Functions\n",
    "``` fnName = lambda arguments : single expression```\n",
    "<br>eg: \n",
    "```\n",
    "def fn(a, b):\n",
    "    return a+b\n",
    "```\n",
    "```\n",
    "fn = lambda a, b : a+b\n",
    "```"
   ]
  },
  {
   "cell_type": "markdown",
   "metadata": {},
   "source": [
    "# progress"
   ]
  },
  {
   "cell_type": "code",
   "execution_count": 4,
   "metadata": {},
   "outputs": [
    {
     "name": "stdout",
     "output_type": "stream",
     "text": [
      "0.1643002028397566\n"
     ]
    }
   ],
   "source": [
    "mylist = [9, 13, 6, 9, 9, 6, 3, 11, 6, 3, 6]\n",
    "total = 493\n",
    "print(sum(mylist)/total)"
   ]
  }
 ],
 "metadata": {
  "kernelspec": {
   "display_name": "Python 3",
   "language": "python",
   "name": "python3"
  },
  "language_info": {
   "codemirror_mode": {
    "name": "ipython",
    "version": 3
   },
   "file_extension": ".py",
   "mimetype": "text/x-python",
   "name": "python",
   "nbconvert_exporter": "python",
   "pygments_lexer": "ipython3",
   "version": "3.7.6"
  }
 },
 "nbformat": 4,
 "nbformat_minor": 4
}
